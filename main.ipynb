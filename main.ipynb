{
 "cells": [
  {
   "cell_type": "code",
   "execution_count": 2,
   "metadata": {},
   "outputs": [],
   "source": [
    "import matplotlib.pyplot as plt\n",
    "from keras.datasets import imdb\n",
    "from keras.utils import pad_sequences\n",
    "from keras.models import Sequential\n",
    "from keras.layers import Embedding, SimpleRNN, Dense, Dropout\n",
    "from keras import callbacks\n",
    "import keras_tuner"
   ]
  },
  {
   "cell_type": "code",
   "execution_count": 4,
   "metadata": {},
   "outputs": [],
   "source": [
    "max_features = 10000\n",
    "maxlen = 500\n",
    "batch_size = 32\n",
    "#No reason not to use these values"
   ]
  },
  {
   "cell_type": "code",
   "execution_count": 5,
   "metadata": {},
   "outputs": [],
   "source": [
    "(x_train, y_train), (x_test, y_test) = imdb.load_data(num_words=max_features)\n",
    "\n",
    "x_train = pad_sequences(x_train, maxlen=maxlen)\n",
    "x_test = pad_sequences(x_test, maxlen=maxlen)"
   ]
  },
  {
   "cell_type": "code",
   "execution_count": null,
   "metadata": {},
   "outputs": [
    {
     "data": {
      "text/plain": [
       "<keras.src.engine.sequential.Sequential at 0x1f3065c9410>"
      ]
     },
     "execution_count": 55,
     "metadata": {},
     "output_type": "execute_result"
    }
   ],
   "source": [
    "def create_simple_RNN(hp):\n",
    "    model = Sequential()\n",
    "    model.add(Embedding(max_features, hp.Int(\"embedding_neurons\", min_value=16, max_value=128, step=16)))\n",
    "    model.add(SimpleRNN(hp.Int(name=\"simple_rnn_neurons\", min_value=16, max_value=128, step=16), dropout=0.5))\n",
    "    model.add(Dense(1, activation='sigmoid'))\n",
    "    model.compile(optimizer='rmsprop', loss='binary_crossentropy', metrics=['accuracy'])\n",
    "    return model\n",
    "create_simple_RNN(keras_tuner.HyperParameters())"
   ]
  },
  {
   "cell_type": "code",
   "execution_count": null,
   "metadata": {},
   "outputs": [
    {
     "name": "stdout",
     "output_type": "stream",
     "text": [
      "Trial 10 Complete [00h 03m 18s]\n",
      "val_accuracy: 0.7820000052452087\n",
      "\n",
      "Best val_accuracy So Far: 0.8131999969482422\n",
      "Total elapsed time: 00h 40m 13s\n"
     ]
    }
   ],
   "source": [
    "tuner = keras_tuner.BayesianOptimization(\n",
    "    hypermodel=create_simple_RNN,\n",
    "    objective='val_accuracy')\n",
    "stop_early = callbacks.EarlyStopping(monitor='val_loss', patience=5)\n",
    "tuner.search(x_train, y_train, validation_split=0.1)"
   ]
  },
  {
   "cell_type": "code",
   "execution_count": null,
   "metadata": {},
   "outputs": [
    {
     "name": "stdout",
     "output_type": "stream",
     "text": [
      "Epoch 1/20\n",
      "704/704 [==============================] - 246s 339ms/step - loss: 0.6900 - accuracy: 0.5304 - val_loss: 0.6707 - val_accuracy: 0.5892\n",
      "Epoch 2/20\n",
      "704/704 [==============================] - 235s 333ms/step - loss: 0.6384 - accuracy: 0.6203 - val_loss: 0.8438 - val_accuracy: 0.5512\n",
      "Epoch 3/20\n",
      "704/704 [==============================] - 235s 334ms/step - loss: 0.5768 - accuracy: 0.6964 - val_loss: 0.5362 - val_accuracy: 0.7308\n",
      "Epoch 4/20\n",
      "704/704 [==============================] - 236s 336ms/step - loss: 0.5099 - accuracy: 0.7493 - val_loss: 0.4563 - val_accuracy: 0.7952\n",
      "Epoch 5/20\n",
      "704/704 [==============================] - 237s 336ms/step - loss: 0.4342 - accuracy: 0.8079 - val_loss: 0.4435 - val_accuracy: 0.8004\n",
      "Epoch 6/20\n",
      "704/704 [==============================] - 234s 332ms/step - loss: 0.4014 - accuracy: 0.8272 - val_loss: 0.4031 - val_accuracy: 0.8308\n",
      "Epoch 7/20\n",
      "704/704 [==============================] - 251s 356ms/step - loss: 0.4205 - accuracy: 0.8194 - val_loss: 0.4031 - val_accuracy: 0.8240\n",
      "Epoch 8/20\n",
      "704/704 [==============================] - 235s 334ms/step - loss: 0.4939 - accuracy: 0.7634 - val_loss: 0.6066 - val_accuracy: 0.6564\n",
      "Epoch 9/20\n",
      "704/704 [==============================] - 236s 335ms/step - loss: 0.4960 - accuracy: 0.7616 - val_loss: 0.5955 - val_accuracy: 0.6868\n",
      "Epoch 10/20\n",
      "704/704 [==============================] - 234s 332ms/step - loss: 0.4567 - accuracy: 0.7916 - val_loss: 0.4618 - val_accuracy: 0.8036\n",
      "Epoch 11/20\n",
      "704/704 [==============================] - 235s 333ms/step - loss: 0.4312 - accuracy: 0.8049 - val_loss: 0.4741 - val_accuracy: 0.7888\n",
      "Epoch 12/20\n",
      "704/704 [==============================] - 236s 335ms/step - loss: 0.4300 - accuracy: 0.8052 - val_loss: 0.4702 - val_accuracy: 0.7928\n",
      "782/782 [==============================] - 77s 98ms/step - loss: 0.4621 - accuracy: 0.7859\n"
     ]
    },
    {
     "data": {
      "text/plain": [
       "[0.4621240198612213, 0.7858800292015076]"
      ]
     },
     "execution_count": 57,
     "metadata": {},
     "output_type": "execute_result"
    }
   ],
   "source": [
    "best_hps = tuner.get_best_hyperparameters()[0]\n",
    "model = tuner.hypermodel.build(best_hps)\n",
    "model.fit(x_train, y_train, epochs=20, validation_split=0.1, callbacks=[stop_early])\n",
    "model.evaluate(x_test, y_test)"
   ]
  },
  {
   "cell_type": "code",
   "execution_count": 9,
   "metadata": {},
   "outputs": [
    {
     "data": {
      "text/plain": [
       "<keras.src.engine.sequential.Sequential at 0x1ea7f7ba150>"
      ]
     },
     "execution_count": 9,
     "metadata": {},
     "output_type": "execute_result"
    }
   ],
   "source": [
    "#trying to add LSTM\n",
    "from keras.layers import LSTM\n",
    "\n",
    "def create_RNN_with_LSTM(hp):\n",
    "    model = Sequential()\n",
    "    model.add(Embedding(max_features, hp.Int(\"embedding_neurons\", min_value=16, max_value=128, step=16)))\n",
    "    model.add(LSTM(hp.Int(name=\"simple_rnn_neurons\", min_value=16, max_value=128, step=16), dropout=0.5))\n",
    "    model.add(Dense(1, activation='sigmoid'))\n",
    "    model.compile(optimizer='rmsprop', loss='binary_crossentropy', metrics=['accuracy'])\n",
    "    return model\n",
    "create_RNN_with_LSTM(keras_tuner.HyperParameters())"
   ]
  },
  {
   "cell_type": "code",
   "execution_count": null,
   "metadata": {},
   "outputs": [
    {
     "name": "stdout",
     "output_type": "stream",
     "text": [
      "Trial 10 Complete [00h 17m 43s]\n",
      "val_accuracy: 0.8148000240325928\n",
      "\n",
      "Best val_accuracy So Far: 0.8628000020980835\n",
      "Total elapsed time: 04h 14m 40s\n"
     ]
    }
   ],
   "source": [
    "LSTM_tuner = keras_tuner.BayesianOptimization(\n",
    "    hypermodel=create_RNN_with_LSTM,\n",
    "    objective='val_accuracy',\n",
    "    project_name=\"LSTM\")\n",
    "LSTM_tuner.search(x_train, y_train, validation_split=0.1)"
   ]
  },
  {
   "cell_type": "code",
   "execution_count": 68,
   "metadata": {},
   "outputs": [
    {
     "name": "stdout",
     "output_type": "stream",
     "text": [
      "Epoch 1/20\n",
      "704/704 [==============================] - 985s 1s/step - loss: 0.4883 - accuracy: 0.7572 - val_loss: 0.4659 - val_accuracy: 0.7904\n",
      "Epoch 2/20\n",
      "704/704 [==============================] - 901s 1s/step - loss: 0.3295 - accuracy: 0.8691 - val_loss: 0.3521 - val_accuracy: 0.8564\n",
      "Epoch 3/20\n",
      "704/704 [==============================] - 898s 1s/step - loss: 0.2726 - accuracy: 0.8944 - val_loss: 0.3957 - val_accuracy: 0.8572\n",
      "Epoch 4/20\n",
      "704/704 [==============================] - 893s 1s/step - loss: 0.2482 - accuracy: 0.9057 - val_loss: 0.2981 - val_accuracy: 0.8792\n",
      "Epoch 5/20\n",
      "704/704 [==============================] - 889s 1s/step - loss: 0.2252 - accuracy: 0.9154 - val_loss: 0.3786 - val_accuracy: 0.8508\n",
      "Epoch 6/20\n",
      "704/704 [==============================] - 911s 1s/step - loss: 0.2077 - accuracy: 0.9240 - val_loss: 0.3151 - val_accuracy: 0.8884\n",
      "Epoch 7/20\n",
      "704/704 [==============================] - 875s 1s/step - loss: 0.1955 - accuracy: 0.9296 - val_loss: 0.3773 - val_accuracy: 0.8816\n",
      "Epoch 8/20\n",
      "704/704 [==============================] - 892s 1s/step - loss: 0.1808 - accuracy: 0.9350 - val_loss: 0.3081 - val_accuracy: 0.8876\n",
      "Epoch 9/20\n",
      "704/704 [==============================] - 917s 1s/step - loss: 0.1714 - accuracy: 0.9369 - val_loss: 0.2873 - val_accuracy: 0.8848\n",
      "Epoch 10/20\n",
      "704/704 [==============================] - 892s 1s/step - loss: 0.1635 - accuracy: 0.9403 - val_loss: 0.4732 - val_accuracy: 0.8644\n",
      "Epoch 11/20\n",
      "704/704 [==============================] - 885s 1s/step - loss: 0.1505 - accuracy: 0.9475 - val_loss: 0.3325 - val_accuracy: 0.8900\n",
      "Epoch 12/20\n",
      "704/704 [==============================] - 883s 1s/step - loss: 0.1386 - accuracy: 0.9517 - val_loss: 0.3345 - val_accuracy: 0.8928\n",
      "Epoch 13/20\n",
      "704/704 [==============================] - 882s 1s/step - loss: 0.1314 - accuracy: 0.9563 - val_loss: 0.3095 - val_accuracy: 0.8944\n",
      "Epoch 14/20\n",
      "704/704 [==============================] - 888s 1s/step - loss: 0.1237 - accuracy: 0.9584 - val_loss: 0.3689 - val_accuracy: 0.8828\n",
      "782/782 [==============================] - 365s 466ms/step - loss: 0.4120 - accuracy: 0.8594\n"
     ]
    },
    {
     "data": {
      "text/plain": [
       "[0.41203781962394714, 0.8593999743461609]"
      ]
     },
     "execution_count": 68,
     "metadata": {},
     "output_type": "execute_result"
    }
   ],
   "source": [
    "best_hps = LSTM_tuner.get_best_hyperparameters()[0]\n",
    "LSTM_model = LSTM_tuner.hypermodel.build(best_hps)\n",
    "LSTM_model.fit(x_train, y_train, epochs=20, validation_split=0.1, callbacks=[stop_early])\n",
    "LSTM_model.evaluate(x_test, y_test)\n",
    "#A bit better"
   ]
  },
  {
   "cell_type": "code",
   "execution_count": 7,
   "metadata": {},
   "outputs": [
    {
     "data": {
      "text/plain": [
       "<keras.src.engine.sequential.Sequential at 0x1ea755f1e50>"
      ]
     },
     "execution_count": 7,
     "metadata": {},
     "output_type": "execute_result"
    }
   ],
   "source": [
    "#trying bidirectional RNN\n",
    "from keras.layers import Bidirectional\n",
    "\n",
    "def create_bidirectional_RNN(hp):\n",
    "    model = Sequential()\n",
    "    model.add(Embedding(max_features, hp.Int(\"embedding_neurons\", min_value=16, max_value=128, step=16)))\n",
    "    model.add(Bidirectional(SimpleRNN(hp.Int(name=\"simple_rnn_neurons\", min_value=16, max_value=128, step=16), dropout=0.5)))\n",
    "    model.add(Dense(1, activation='sigmoid'))\n",
    "    model.compile(optimizer='rmsprop', loss='binary_crossentropy', metrics=['accuracy'])\n",
    "    return model\n",
    "create_bidirectional_RNN(keras_tuner.HyperParameters())"
   ]
  },
  {
   "cell_type": "code",
   "execution_count": 70,
   "metadata": {},
   "outputs": [
    {
     "name": "stdout",
     "output_type": "stream",
     "text": [
      "Trial 10 Complete [00h 05m 16s]\n",
      "val_accuracy: 0.8180000185966492\n",
      "\n",
      "Best val_accuracy So Far: 0.8212000131607056\n",
      "Total elapsed time: 01h 08m 28s\n"
     ]
    }
   ],
   "source": [
    "bidirectional_tuner = keras_tuner.BayesianOptimization(\n",
    "    hypermodel=create_bidirectional_RNN,\n",
    "    objective='val_accuracy',\n",
    "    project_name=\"Bi-RNN\")\n",
    "bidirectional_tuner.search(x_train, y_train, validation_split=0.1)"
   ]
  },
  {
   "cell_type": "code",
   "execution_count": 71,
   "metadata": {},
   "outputs": [
    {
     "name": "stdout",
     "output_type": "stream",
     "text": [
      "Epoch 1/20\n",
      "704/704 [==============================] - 298s 408ms/step - loss: 0.6822 - accuracy: 0.5474 - val_loss: 0.6397 - val_accuracy: 0.6064\n",
      "Epoch 2/20\n",
      "704/704 [==============================] - 286s 406ms/step - loss: 0.5102 - accuracy: 0.7537 - val_loss: 0.4534 - val_accuracy: 0.7864\n",
      "Epoch 3/20\n",
      "704/704 [==============================] - 291s 414ms/step - loss: 0.4297 - accuracy: 0.8126 - val_loss: 0.3925 - val_accuracy: 0.8396\n",
      "Epoch 4/20\n",
      "704/704 [==============================] - 288s 409ms/step - loss: 0.3818 - accuracy: 0.8377 - val_loss: 0.3639 - val_accuracy: 0.8508\n",
      "Epoch 5/20\n",
      "704/704 [==============================] - 291s 414ms/step - loss: 0.3713 - accuracy: 0.8468 - val_loss: 0.4570 - val_accuracy: 0.7924\n",
      "Epoch 6/20\n",
      "704/704 [==============================] - 288s 409ms/step - loss: 0.3509 - accuracy: 0.8565 - val_loss: 0.3882 - val_accuracy: 0.8488\n",
      "Epoch 7/20\n",
      "704/704 [==============================] - 289s 411ms/step - loss: 0.3401 - accuracy: 0.8622 - val_loss: 0.3140 - val_accuracy: 0.8804\n",
      "Epoch 8/20\n",
      "704/704 [==============================] - 288s 409ms/step - loss: 0.3190 - accuracy: 0.8708 - val_loss: 0.4229 - val_accuracy: 0.8260\n",
      "Epoch 9/20\n",
      "704/704 [==============================] - 289s 410ms/step - loss: 0.3155 - accuracy: 0.8763 - val_loss: 0.4733 - val_accuracy: 0.7504\n",
      "Epoch 10/20\n",
      "704/704 [==============================] - 290s 412ms/step - loss: 0.3207 - accuracy: 0.8700 - val_loss: 0.4946 - val_accuracy: 0.7484\n",
      "Epoch 11/20\n",
      "704/704 [==============================] - 289s 411ms/step - loss: 0.3486 - accuracy: 0.8482 - val_loss: 0.3839 - val_accuracy: 0.8456\n",
      "Epoch 12/20\n",
      "704/704 [==============================] - 287s 408ms/step - loss: 0.3239 - accuracy: 0.8687 - val_loss: 0.3757 - val_accuracy: 0.8564\n",
      "782/782 [==============================] - 64s 81ms/step - loss: 0.3818 - accuracy: 0.8488\n"
     ]
    },
    {
     "data": {
      "text/plain": [
       "[0.3818296790122986, 0.8487600088119507]"
      ]
     },
     "execution_count": 71,
     "metadata": {},
     "output_type": "execute_result"
    }
   ],
   "source": [
    "best_hps = bidirectional_tuner.get_best_hyperparameters()[0]\n",
    "bidirectional_model = bidirectional_tuner.hypermodel.build(best_hps)\n",
    "bidirectional_model.fit(x_train, y_train, epochs=20, validation_split=0.1, callbacks=[stop_early])\n",
    "bidirectional_model.evaluate(x_test, y_test)"
   ]
  },
  {
   "cell_type": "code",
   "execution_count": 72,
   "metadata": {},
   "outputs": [
    {
     "data": {
      "text/plain": [
       "<keras.src.engine.sequential.Sequential at 0x1f30cc81410>"
      ]
     },
     "execution_count": 72,
     "metadata": {},
     "output_type": "execute_result"
    }
   ],
   "source": [
    "#Deep RNN\n",
    "def create_deep_RNN(hp):\n",
    "    model = Sequential()\n",
    "    model.add(Embedding(max_features, hp.Int(\"embedding_neurons\", min_value=16, max_value=128, step=16)))\n",
    "    for i in range(2):\n",
    "        model.add(SimpleRNN(hp.Int(name=\"simple_rnn_neurons\", min_value=16, max_value=128, step=16), dropout=0.5, return_sequences=True))\n",
    "    model.add(SimpleRNN(hp.Int(name=\"simple_rnn_neurons\", min_value=16, max_value=128, step=16)))\n",
    "    model.add(Dense(1, activation='sigmoid'))\n",
    "    model.compile(optimizer='rmsprop', loss='binary_crossentropy', metrics=['accuracy'])\n",
    "    return model\n",
    "create_deep_RNN(keras_tuner.HyperParameters())"
   ]
  },
  {
   "cell_type": "code",
   "execution_count": 77,
   "metadata": {},
   "outputs": [
    {
     "name": "stdout",
     "output_type": "stream",
     "text": [
      "Trial 10 Complete [00h 10m 42s]\n",
      "val_accuracy: 0.8248000144958496\n",
      "\n",
      "Best val_accuracy So Far: 0.8248000144958496\n",
      "Total elapsed time: 01h 58m 39s\n"
     ]
    }
   ],
   "source": [
    "deep_tuner = keras_tuner.BayesianOptimization(\n",
    "    hypermodel=create_deep_RNN,\n",
    "    objective='val_accuracy',\n",
    "    project_name=\"Deep-RNN\")\n",
    "deep_tuner.search(x_train, y_train, validation_split=0.1)"
   ]
  },
  {
   "cell_type": "code",
   "execution_count": 78,
   "metadata": {},
   "outputs": [
    {
     "name": "stdout",
     "output_type": "stream",
     "text": [
      "Epoch 1/20\n",
      "704/704 [==============================] - 646s 894ms/step - loss: 0.6156 - accuracy: 0.6374 - val_loss: 0.5346 - val_accuracy: 0.8024\n",
      "Epoch 2/20\n",
      "704/704 [==============================] - 596s 847ms/step - loss: 0.4114 - accuracy: 0.8239 - val_loss: 0.3973 - val_accuracy: 0.8396\n",
      "Epoch 3/20\n",
      "704/704 [==============================] - 598s 850ms/step - loss: 0.3618 - accuracy: 0.8501 - val_loss: 0.3626 - val_accuracy: 0.8428\n",
      "Epoch 4/20\n",
      "704/704 [==============================] - 578s 821ms/step - loss: 0.3344 - accuracy: 0.8679 - val_loss: 0.4080 - val_accuracy: 0.8568\n",
      "Epoch 5/20\n",
      "704/704 [==============================] - 571s 812ms/step - loss: 0.3036 - accuracy: 0.8808 - val_loss: 0.3251 - val_accuracy: 0.8628\n",
      "Epoch 6/20\n",
      "704/704 [==============================] - 536s 761ms/step - loss: 0.2859 - accuracy: 0.8881 - val_loss: 0.4407 - val_accuracy: 0.8588\n",
      "Epoch 7/20\n",
      "704/704 [==============================] - 529s 751ms/step - loss: 0.2670 - accuracy: 0.8953 - val_loss: 0.4626 - val_accuracy: 0.8520\n",
      "Epoch 8/20\n",
      "704/704 [==============================] - 526s 747ms/step - loss: 0.3481 - accuracy: 0.8595 - val_loss: 0.4289 - val_accuracy: 0.8444\n",
      "Epoch 9/20\n",
      "704/704 [==============================] - 512s 727ms/step - loss: 0.3327 - accuracy: 0.8593 - val_loss: 0.4068 - val_accuracy: 0.8432\n",
      "Epoch 10/20\n",
      "704/704 [==============================] - 514s 729ms/step - loss: 0.3247 - accuracy: 0.8691 - val_loss: 0.4806 - val_accuracy: 0.7924\n",
      "782/782 [==============================] - 132s 169ms/step - loss: 0.4998 - accuracy: 0.7841\n"
     ]
    },
    {
     "data": {
      "text/plain": [
       "[0.49983808398246765, 0.7841200232505798]"
      ]
     },
     "execution_count": 78,
     "metadata": {},
     "output_type": "execute_result"
    }
   ],
   "source": [
    "best_hps = deep_tuner.get_best_hyperparameters()[0]\n",
    "deep_model = deep_tuner.hypermodel.build(best_hps)\n",
    "deep_model.fit(x_train, y_train, epochs=20, validation_split=0.1, callbacks=[stop_early])\n",
    "deep_model.evaluate(x_test, y_test)\n",
    "#More layers don't realy help."
   ]
  },
  {
   "cell_type": "code",
   "execution_count": 10,
   "metadata": {},
   "outputs": [
    {
     "data": {
      "text/plain": [
       "<keras.src.engine.sequential.Sequential at 0x1ea0cad1390>"
      ]
     },
     "execution_count": 10,
     "metadata": {},
     "output_type": "execute_result"
    }
   ],
   "source": [
    "#Now all together. Except deep.\n",
    "def create_omega_RNN(hp):\n",
    "    model = Sequential()\n",
    "    model.add(Embedding(max_features, hp.Int(\"embedding_neurons\", min_value=16, max_value=128, step=16)))\n",
    "    model.add(Bidirectional(LSTM(hp.Int(name=\"simple_rnn_neurons\", min_value=16, max_value=128, step=16), dropout=0.5)))\n",
    "    model.add(Dense(1, activation='sigmoid'))\n",
    "    model.compile(optimizer='rmsprop', loss='binary_crossentropy', metrics=['accuracy'])\n",
    "    return model\n",
    "create_omega_RNN(keras_tuner.HyperParameters())"
   ]
  },
  {
   "cell_type": "code",
   "execution_count": 12,
   "metadata": {},
   "outputs": [
    {
     "name": "stdout",
     "output_type": "stream",
     "text": [
      "Trial 10 Complete [00h 39m 43s]\n",
      "val_accuracy: 0.819599986076355\n",
      "\n",
      "Best val_accuracy So Far: 0.847599983215332\n",
      "Total elapsed time: 04h 35m 31s\n"
     ]
    }
   ],
   "source": [
    "omega_tuner = keras_tuner.BayesianOptimization(\n",
    "    hypermodel=create_omega_RNN,\n",
    "    objective='val_accuracy',\n",
    "    project_name=\"Omega_RNN\")\n",
    "omega_tuner.search(x_train, y_train, validation_split=0.1)"
   ]
  },
  {
   "cell_type": "code",
   "execution_count": 13,
   "metadata": {},
   "outputs": [
    {
     "ename": "NameError",
     "evalue": "name 'stop_early' is not defined",
     "output_type": "error",
     "traceback": [
      "\u001b[1;31m---------------------------------------------------------------------------\u001b[0m",
      "\u001b[1;31mNameError\u001b[0m                                 Traceback (most recent call last)",
      "\u001b[1;32md:\\Alex\\Documents\\Git\\DataScienceCourse\\HW11\\main.ipynb Cell 18\u001b[0m line \u001b[0;36m3\n\u001b[0;32m      <a href='vscode-notebook-cell:/d%3A/Alex/Documents/Git/DataScienceCourse/HW11/main.ipynb#X23sZmlsZQ%3D%3D?line=0'>1</a>\u001b[0m best_hps \u001b[39m=\u001b[39m omega_tuner\u001b[39m.\u001b[39mget_best_hyperparameters()[\u001b[39m0\u001b[39m]\n\u001b[0;32m      <a href='vscode-notebook-cell:/d%3A/Alex/Documents/Git/DataScienceCourse/HW11/main.ipynb#X23sZmlsZQ%3D%3D?line=1'>2</a>\u001b[0m omega_model \u001b[39m=\u001b[39m omega_tuner\u001b[39m.\u001b[39mhypermodel\u001b[39m.\u001b[39mbuild(best_hps)\n\u001b[1;32m----> <a href='vscode-notebook-cell:/d%3A/Alex/Documents/Git/DataScienceCourse/HW11/main.ipynb#X23sZmlsZQ%3D%3D?line=2'>3</a>\u001b[0m omega_model\u001b[39m.\u001b[39mfit(x_train, y_train, epochs\u001b[39m=\u001b[39m\u001b[39m20\u001b[39m, validation_split\u001b[39m=\u001b[39m\u001b[39m0.1\u001b[39m, callbacks\u001b[39m=\u001b[39m[stop_early])\n\u001b[0;32m      <a href='vscode-notebook-cell:/d%3A/Alex/Documents/Git/DataScienceCourse/HW11/main.ipynb#X23sZmlsZQ%3D%3D?line=3'>4</a>\u001b[0m omega_model\u001b[39m.\u001b[39mevaluate(x_test, y_test)\n",
      "\u001b[1;31mNameError\u001b[0m: name 'stop_early' is not defined"
     ]
    }
   ],
   "source": [
    "stop_early = callbacks.EarlyStopping(monitor='val_loss', patience=5)\n",
    "best_hps = omega_tuner.get_best_hyperparameters()[0]\n",
    "omega_model = omega_tuner.hypermodel.build(best_hps)\n",
    "omega_model.fit(x_train, y_train, epochs=20, validation_split=0.1, callbacks=[stop_early])\n",
    "omega_model.evaluate(x_test, y_test)"
   ]
  }
 ],
 "metadata": {
  "kernelspec": {
   "display_name": "Python 3",
   "language": "python",
   "name": "python3"
  },
  "language_info": {
   "codemirror_mode": {
    "name": "ipython",
    "version": 3
   },
   "file_extension": ".py",
   "mimetype": "text/x-python",
   "name": "python",
   "nbconvert_exporter": "python",
   "pygments_lexer": "ipython3",
   "version": "3.11.1"
  }
 },
 "nbformat": 4,
 "nbformat_minor": 2
}
